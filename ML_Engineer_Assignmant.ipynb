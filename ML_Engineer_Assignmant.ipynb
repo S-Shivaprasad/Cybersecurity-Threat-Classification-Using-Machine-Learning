{
  "nbformat": 4,
  "nbformat_minor": 0,
  "metadata": {
    "colab": {
      "provenance": [],
      "gpuType": "T4",
      "authorship_tag": "ABX9TyMnQGm2wuA5U0ZPP+aXFFs4",
      "include_colab_link": true
    },
    "kernelspec": {
      "name": "python3",
      "display_name": "Python 3"
    },
    "language_info": {
      "name": "python"
    },
    "accelerator": "GPU"
  },
  "cells": [
    {
      "cell_type": "markdown",
      "metadata": {
        "id": "view-in-github",
        "colab_type": "text"
      },
      "source": [
        "<a href=\"https://colab.research.google.com/github/S-Shivaprasad/Cybersecurity-Threat-Classification-Using-Machine-Learning/blob/main/ML_Engineer_Assignmant.ipynb\" target=\"_parent\"><img src=\"https://colab.research.google.com/assets/colab-badge.svg\" alt=\"Open In Colab\"/></a>"
      ]
    },
    {
      "cell_type": "markdown",
      "source": [
        "# 📌 Cybersecurity Threat Classification Using Machine Learning\n",
        "This notebook aims to detect **cybersecurity threats** using machine learning techniques. We will preprocess network traffic data, extract features, train models, and evaluate performance."
      ],
      "metadata": {
        "id": "2d6MA6csNiri"
      }
    },
    {
      "cell_type": "markdown",
      "source": [
        "## 1️⃣ Introduction\n",
        "Cybersecurity threats such as **DDoS attacks, port scanning, and web attacks** can be detected using ML models. The dataset used for this project is CICIDS2017, which contains real-world intrusion detection data."
      ],
      "metadata": {
        "id": "GiTB3mmrNqUb"
      }
    },
    {
      "cell_type": "markdown",
      "source": [
        "## 2️⃣ Data Preprocessing\n",
        "**Steps included:**\n",
        "- Load the dataset from CSV files\n",
        "- Merge multiple datasets into a single DataFrame\n",
        "- Handle missing values using median imputation\n",
        "- Remove unwanted columns such as IP addresses and timestamps\n",
        "- Normalize numerical features for better model performance"
      ],
      "metadata": {
        "id": "3sLWk9lDNucE"
      }
    },
    {
      "cell_type": "code",
      "execution_count": 1,
      "metadata": {
        "id": "W3A5_8PMpxKa"
      },
      "outputs": [],
      "source": [
        "import numpy as np\n",
        "import pandas as pd\n"
      ]
    },
    {
      "cell_type": "code",
      "source": [
        "from google.colab import drive\n",
        "drive.mount('/content/drive')"
      ],
      "metadata": {
        "colab": {
          "base_uri": "https://localhost:8080/"
        },
        "id": "BFArVGFB1b3e",
        "outputId": "3b798094-81dd-4ef7-abc6-09b7980d34cc"
      },
      "execution_count": 2,
      "outputs": [
        {
          "output_type": "stream",
          "name": "stdout",
          "text": [
            "Drive already mounted at /content/drive; to attempt to forcibly remount, call drive.mount(\"/content/drive\", force_remount=True).\n"
          ]
        }
      ]
    },
    {
      "cell_type": "code",
      "source": [
        "df1=pd.read_csv(\"/content/drive/MyDrive/Friday-WorkingHours-Afternoon-DDos.pcap_ISCX.csv\")\n",
        "df2=pd.read_csv(\"/content/drive/MyDrive/Friday-WorkingHours-Afternoon-PortScan.pcap_ISCX.csv\")\n",
        "df3=pd.read_csv(\"/content/drive/MyDrive/Friday-WorkingHours-Morning.pcap_ISCX.csv\")\n",
        "df4=pd.read_csv(\"/content/drive/MyDrive/Monday-WorkingHours.pcap_ISCX.csv\")"
      ],
      "metadata": {
        "id": "ujnrGICn1rzl"
      },
      "execution_count": 3,
      "outputs": []
    },
    {
      "cell_type": "code",
      "source": [
        "merged_df = pd.concat([df1, df2, df3, df4], ignore_index=True)"
      ],
      "metadata": {
        "id": "jH7ATkEC2EJ6"
      },
      "execution_count": 4,
      "outputs": []
    },
    {
      "cell_type": "code",
      "source": [
        "merged_df.info()"
      ],
      "metadata": {
        "colab": {
          "base_uri": "https://localhost:8080/"
        },
        "id": "UWzVLIsV2QyA",
        "outputId": "2148acda-40af-4b56-9eec-408b05d2f4f9"
      },
      "execution_count": 5,
      "outputs": [
        {
          "output_type": "stream",
          "name": "stdout",
          "text": [
            "<class 'pandas.core.frame.DataFrame'>\n",
            "RangeIndex: 1233163 entries, 0 to 1233162\n",
            "Data columns (total 79 columns):\n",
            " #   Column                        Non-Null Count    Dtype  \n",
            "---  ------                        --------------    -----  \n",
            " 0    Destination Port             1233163 non-null  int64  \n",
            " 1    Flow Duration                1233163 non-null  int64  \n",
            " 2    Total Fwd Packets            1233163 non-null  int64  \n",
            " 3    Total Backward Packets       1233163 non-null  int64  \n",
            " 4   Total Length of Fwd Packets   1233163 non-null  int64  \n",
            " 5    Total Length of Bwd Packets  1233163 non-null  int64  \n",
            " 6    Fwd Packet Length Max        1233163 non-null  int64  \n",
            " 7    Fwd Packet Length Min        1233163 non-null  int64  \n",
            " 8    Fwd Packet Length Mean       1233163 non-null  float64\n",
            " 9    Fwd Packet Length Std        1233163 non-null  float64\n",
            " 10  Bwd Packet Length Max         1233163 non-null  int64  \n",
            " 11   Bwd Packet Length Min        1233163 non-null  int64  \n",
            " 12   Bwd Packet Length Mean       1233163 non-null  float64\n",
            " 13   Bwd Packet Length Std        1233163 non-null  float64\n",
            " 14  Flow Bytes/s                  1233052 non-null  float64\n",
            " 15   Flow Packets/s               1233163 non-null  float64\n",
            " 16   Flow IAT Mean                1233163 non-null  float64\n",
            " 17   Flow IAT Std                 1233163 non-null  float64\n",
            " 18   Flow IAT Max                 1233163 non-null  int64  \n",
            " 19   Flow IAT Min                 1233163 non-null  int64  \n",
            " 20  Fwd IAT Total                 1233163 non-null  int64  \n",
            " 21   Fwd IAT Mean                 1233163 non-null  float64\n",
            " 22   Fwd IAT Std                  1233163 non-null  float64\n",
            " 23   Fwd IAT Max                  1233163 non-null  int64  \n",
            " 24   Fwd IAT Min                  1233163 non-null  int64  \n",
            " 25  Bwd IAT Total                 1233163 non-null  int64  \n",
            " 26   Bwd IAT Mean                 1233163 non-null  float64\n",
            " 27   Bwd IAT Std                  1233163 non-null  float64\n",
            " 28   Bwd IAT Max                  1233163 non-null  int64  \n",
            " 29   Bwd IAT Min                  1233163 non-null  int64  \n",
            " 30  Fwd PSH Flags                 1233163 non-null  int64  \n",
            " 31   Bwd PSH Flags                1233163 non-null  int64  \n",
            " 32   Fwd URG Flags                1233163 non-null  int64  \n",
            " 33   Bwd URG Flags                1233163 non-null  int64  \n",
            " 34   Fwd Header Length            1233163 non-null  int64  \n",
            " 35   Bwd Header Length            1233163 non-null  int64  \n",
            " 36  Fwd Packets/s                 1233163 non-null  float64\n",
            " 37   Bwd Packets/s                1233163 non-null  float64\n",
            " 38   Min Packet Length            1233163 non-null  int64  \n",
            " 39   Max Packet Length            1233163 non-null  int64  \n",
            " 40   Packet Length Mean           1233163 non-null  float64\n",
            " 41   Packet Length Std            1233163 non-null  float64\n",
            " 42   Packet Length Variance       1233163 non-null  float64\n",
            " 43  FIN Flag Count                1233163 non-null  int64  \n",
            " 44   SYN Flag Count               1233163 non-null  int64  \n",
            " 45   RST Flag Count               1233163 non-null  int64  \n",
            " 46   PSH Flag Count               1233163 non-null  int64  \n",
            " 47   ACK Flag Count               1233163 non-null  int64  \n",
            " 48   URG Flag Count               1233163 non-null  int64  \n",
            " 49   CWE Flag Count               1233163 non-null  int64  \n",
            " 50   ECE Flag Count               1233163 non-null  int64  \n",
            " 51   Down/Up Ratio                1233163 non-null  int64  \n",
            " 52   Average Packet Size          1233163 non-null  float64\n",
            " 53   Avg Fwd Segment Size         1233163 non-null  float64\n",
            " 54   Avg Bwd Segment Size         1233163 non-null  float64\n",
            " 55   Fwd Header Length.1          1233163 non-null  int64  \n",
            " 56  Fwd Avg Bytes/Bulk            1233163 non-null  int64  \n",
            " 57   Fwd Avg Packets/Bulk         1233163 non-null  int64  \n",
            " 58   Fwd Avg Bulk Rate            1233163 non-null  int64  \n",
            " 59   Bwd Avg Bytes/Bulk           1233163 non-null  int64  \n",
            " 60   Bwd Avg Packets/Bulk         1233163 non-null  int64  \n",
            " 61  Bwd Avg Bulk Rate             1233163 non-null  int64  \n",
            " 62  Subflow Fwd Packets           1233163 non-null  int64  \n",
            " 63   Subflow Fwd Bytes            1233163 non-null  int64  \n",
            " 64   Subflow Bwd Packets          1233163 non-null  int64  \n",
            " 65   Subflow Bwd Bytes            1233163 non-null  int64  \n",
            " 66  Init_Win_bytes_forward        1233163 non-null  int64  \n",
            " 67   Init_Win_bytes_backward      1233163 non-null  int64  \n",
            " 68   act_data_pkt_fwd             1233163 non-null  int64  \n",
            " 69   min_seg_size_forward         1233163 non-null  int64  \n",
            " 70  Active Mean                   1233163 non-null  float64\n",
            " 71   Active Std                   1233163 non-null  float64\n",
            " 72   Active Max                   1233163 non-null  int64  \n",
            " 73   Active Min                   1233163 non-null  int64  \n",
            " 74  Idle Mean                     1233163 non-null  float64\n",
            " 75   Idle Std                     1233163 non-null  float64\n",
            " 76   Idle Max                     1233163 non-null  int64  \n",
            " 77   Idle Min                     1233163 non-null  int64  \n",
            " 78   Label                        1233163 non-null  object \n",
            "dtypes: float64(24), int64(54), object(1)\n",
            "memory usage: 743.3+ MB\n"
          ]
        }
      ]
    },
    {
      "cell_type": "code",
      "source": [
        "merged_df.columns = merged_df.columns.str.replace(\" \", \"_\")"
      ],
      "metadata": {
        "id": "STtR689M2UON"
      },
      "execution_count": 6,
      "outputs": []
    },
    {
      "cell_type": "code",
      "source": [
        "merged_df.columns"
      ],
      "metadata": {
        "colab": {
          "base_uri": "https://localhost:8080/"
        },
        "id": "YcTtJ8Wk2Z-Z",
        "outputId": "ecb06d34-c7d4-48d2-aa24-966cb76b3078"
      },
      "execution_count": 7,
      "outputs": [
        {
          "output_type": "execute_result",
          "data": {
            "text/plain": [
              "Index(['_Destination_Port', '_Flow_Duration', '_Total_Fwd_Packets',\n",
              "       '_Total_Backward_Packets', 'Total_Length_of_Fwd_Packets',\n",
              "       '_Total_Length_of_Bwd_Packets', '_Fwd_Packet_Length_Max',\n",
              "       '_Fwd_Packet_Length_Min', '_Fwd_Packet_Length_Mean',\n",
              "       '_Fwd_Packet_Length_Std', 'Bwd_Packet_Length_Max',\n",
              "       '_Bwd_Packet_Length_Min', '_Bwd_Packet_Length_Mean',\n",
              "       '_Bwd_Packet_Length_Std', 'Flow_Bytes/s', '_Flow_Packets/s',\n",
              "       '_Flow_IAT_Mean', '_Flow_IAT_Std', '_Flow_IAT_Max', '_Flow_IAT_Min',\n",
              "       'Fwd_IAT_Total', '_Fwd_IAT_Mean', '_Fwd_IAT_Std', '_Fwd_IAT_Max',\n",
              "       '_Fwd_IAT_Min', 'Bwd_IAT_Total', '_Bwd_IAT_Mean', '_Bwd_IAT_Std',\n",
              "       '_Bwd_IAT_Max', '_Bwd_IAT_Min', 'Fwd_PSH_Flags', '_Bwd_PSH_Flags',\n",
              "       '_Fwd_URG_Flags', '_Bwd_URG_Flags', '_Fwd_Header_Length',\n",
              "       '_Bwd_Header_Length', 'Fwd_Packets/s', '_Bwd_Packets/s',\n",
              "       '_Min_Packet_Length', '_Max_Packet_Length', '_Packet_Length_Mean',\n",
              "       '_Packet_Length_Std', '_Packet_Length_Variance', 'FIN_Flag_Count',\n",
              "       '_SYN_Flag_Count', '_RST_Flag_Count', '_PSH_Flag_Count',\n",
              "       '_ACK_Flag_Count', '_URG_Flag_Count', '_CWE_Flag_Count',\n",
              "       '_ECE_Flag_Count', '_Down/Up_Ratio', '_Average_Packet_Size',\n",
              "       '_Avg_Fwd_Segment_Size', '_Avg_Bwd_Segment_Size',\n",
              "       '_Fwd_Header_Length.1', 'Fwd_Avg_Bytes/Bulk', '_Fwd_Avg_Packets/Bulk',\n",
              "       '_Fwd_Avg_Bulk_Rate', '_Bwd_Avg_Bytes/Bulk', '_Bwd_Avg_Packets/Bulk',\n",
              "       'Bwd_Avg_Bulk_Rate', 'Subflow_Fwd_Packets', '_Subflow_Fwd_Bytes',\n",
              "       '_Subflow_Bwd_Packets', '_Subflow_Bwd_Bytes', 'Init_Win_bytes_forward',\n",
              "       '_Init_Win_bytes_backward', '_act_data_pkt_fwd',\n",
              "       '_min_seg_size_forward', 'Active_Mean', '_Active_Std', '_Active_Max',\n",
              "       '_Active_Min', 'Idle_Mean', '_Idle_Std', '_Idle_Max', '_Idle_Min',\n",
              "       '_Label'],\n",
              "      dtype='object')"
            ]
          },
          "metadata": {},
          "execution_count": 7
        }
      ]
    },
    {
      "cell_type": "code",
      "source": [
        "null_values = merged_df.isnull().sum()\n",
        "infinite_values = merged_df.isin([np.inf, -np.inf]).sum()\n",
        "\n",
        "missing_data_report = pd.DataFrame({\n",
        "    \"Null Values\": null_values,\n",
        "    \"Infinite Values\": infinite_values\n",
        "})\n",
        "\n",
        "print(missing_data_report[(missing_data_report[\"Null Values\"] > 0) | (missing_data_report[\"Infinite Values\"] > 0)])\n"
      ],
      "metadata": {
        "colab": {
          "base_uri": "https://localhost:8080/"
        },
        "id": "4ha01akZ2130",
        "outputId": "522c8f7f-9392-41f5-e3af-16751be85d62"
      },
      "execution_count": 8,
      "outputs": [
        {
          "output_type": "stream",
          "name": "stdout",
          "text": [
            "                 Null Values  Infinite Values\n",
            "Flow_Bytes/s             111              853\n",
            "_Flow_Packets/s            0              964\n"
          ]
        }
      ]
    },
    {
      "cell_type": "code",
      "source": [
        "merged_df[\"Flow_Bytes/s\"] = merged_df[\"Flow_Bytes/s\"].fillna(merged_df[\"Flow_Bytes/s\"].median())\n",
        "merged_df[\"Flow_Bytes/s\"] = merged_df[\"Flow_Bytes/s\"].replace([float(\"inf\"), -float(\"inf\")], merged_df[\"Flow_Bytes/s\"].median())"
      ],
      "metadata": {
        "id": "5XUXXr1g2-1a"
      },
      "execution_count": 9,
      "outputs": []
    },
    {
      "cell_type": "code",
      "source": [
        "merged_df[\"_Flow_Packets/s\"] = merged_df[\"_Flow_Packets/s\"].replace([float(\"inf\"), -float(\"inf\")], merged_df[\"_Flow_Packets/s\"].median())"
      ],
      "metadata": {
        "id": "TAFoI8ir3GOC"
      },
      "execution_count": 10,
      "outputs": []
    },
    {
      "cell_type": "code",
      "source": [
        "null_values = merged_df.isnull().sum()\n",
        "infinite_values = merged_df.isin([np.inf, -np.inf]).sum()\n",
        "\n",
        "missing_data_report = pd.DataFrame({\n",
        "    \"Null Values\": null_values,\n",
        "    \"Infinite Values\": infinite_values\n",
        "})\n",
        "\n",
        "print(missing_data_report[(missing_data_report[\"Null Values\"] > 0) | (missing_data_report[\"Infinite Values\"] > 0)])\n"
      ],
      "metadata": {
        "colab": {
          "base_uri": "https://localhost:8080/"
        },
        "id": "lFFvtaf33OFK",
        "outputId": "d368b87a-f897-434f-d843-87af0dfb1583"
      },
      "execution_count": 11,
      "outputs": [
        {
          "output_type": "stream",
          "name": "stdout",
          "text": [
            "Empty DataFrame\n",
            "Columns: [Null Values, Infinite Values]\n",
            "Index: []\n"
          ]
        }
      ]
    },
    {
      "cell_type": "code",
      "source": [
        "columns_to_drop = [\"Flow_ID\", \"Source_IP\", \"Destination_IP\", \"_Timestamp\", \"Src_Port\", \"Dst_Port\"]  # Modify as needed\n",
        "merged_df = merged_df.drop(columns=columns_to_drop, errors=\"ignore\")"
      ],
      "metadata": {
        "id": "FKbgwe-I3ZKu"
      },
      "execution_count": 12,
      "outputs": []
    },
    {
      "cell_type": "markdown",
      "source": [
        "## 3️⃣ Feature Selection\n",
        "**Steps included:**\n",
        "- Compute correlation matrix to remove highly correlated features\n",
        "- Retain only relevant features to reduce dimensionality and improve accuracy"
      ],
      "metadata": {
        "id": "JMvTVmgYN0D8"
      }
    },
    {
      "cell_type": "code",
      "source": [
        "# Drop columns with only one unique value\n",
        "merged_df = merged_df.loc[:, merged_df.nunique() > 1]\n"
      ],
      "metadata": {
        "id": "JGhZ5ixT3qa2"
      },
      "execution_count": 13,
      "outputs": []
    },
    {
      "cell_type": "code",
      "source": [
        "# Select only numeric columns\n",
        "numeric_df = merged_df.select_dtypes(include=[\"number\"])\n",
        "\n",
        "# Compute correlation matrix\n",
        "corr_matrix = numeric_df.corr().abs()\n",
        "\n",
        "# Find upper triangle of the correlation matrix\n",
        "upper_tri = corr_matrix.where(np.triu(np.ones(corr_matrix.shape), k=1).astype(bool))\n",
        "\n",
        "# Find highly correlated features\n",
        "to_drop = [column for column in upper_tri.columns if any(upper_tri[column] > 0.9)]\n",
        "\n",
        "# Drop them from merged_df\n",
        "merged_df = merged_df.drop(columns=to_drop)\n"
      ],
      "metadata": {
        "id": "FftLUgIL3vz5"
      },
      "execution_count": 14,
      "outputs": []
    },
    {
      "cell_type": "code",
      "source": [
        "print(merged_df.select_dtypes(include=[\"object\"]).columns)"
      ],
      "metadata": {
        "colab": {
          "base_uri": "https://localhost:8080/"
        },
        "id": "4LObYd7s3zrO",
        "outputId": "d5638397-6168-4bf2-fcbb-c71ffe475306"
      },
      "execution_count": 15,
      "outputs": [
        {
          "output_type": "stream",
          "name": "stdout",
          "text": [
            "Index(['_Label'], dtype='object')\n"
          ]
        }
      ]
    },
    {
      "cell_type": "code",
      "source": [
        "from sklearn.preprocessing import LabelEncoder\n",
        "\n",
        "label_encoder = LabelEncoder()\n",
        "merged_df[\"_Label\"] = label_encoder.fit_transform(merged_df[\"_Label\"])"
      ],
      "metadata": {
        "id": "hqW5a7d132Ns"
      },
      "execution_count": 16,
      "outputs": []
    },
    {
      "cell_type": "code",
      "source": [
        "from sklearn.model_selection import train_test_split\n",
        "\n",
        "# Separate features (X) and target variable (y)\n",
        "X = merged_df.drop(columns=[\"_Label\"])  # Features\n",
        "y = merged_df[\"_Label\"]  # Target variable (attack category)\n",
        "\n",
        "# Split into 80% training and 20% testing\n",
        "X_train, X_test, y_train, y_test = train_test_split(X, y, test_size=0.2, random_state=42, stratify=y)\n",
        "\n",
        "print(f\"Training set: {X_train.shape}, Testing set: {X_test.shape}\")\n"
      ],
      "metadata": {
        "colab": {
          "base_uri": "https://localhost:8080/"
        },
        "id": "jAEQR2614Q8O",
        "outputId": "6e73e01b-e734-421d-8a76-b1e55d8f84fd"
      },
      "execution_count": 17,
      "outputs": [
        {
          "output_type": "stream",
          "name": "stdout",
          "text": [
            "Training set: (986530, 35), Testing set: (246633, 35)\n"
          ]
        }
      ]
    },
    {
      "cell_type": "markdown",
      "source": [
        "## 4️⃣ Model Selection & Training\n",
        "**ML Models Used:**\n",
        "- **Random Forest** – A tree-based ensemble method for classification\n",
        "- **Neural Network (Optional)** – A deep learning model for complex patterns\n",
        "\n",
        "Each model is trained on the dataset after splitting it into **80% training** and **20% testing**."
      ],
      "metadata": {
        "id": "bs6gVo-bN5uE"
      }
    },
    {
      "cell_type": "code",
      "source": [
        "from sklearn.ensemble import RandomForestClassifier\n",
        "\n",
        "rf_model = RandomForestClassifier(n_estimators=100, random_state=42)\n",
        "rf_model.fit(X_train, y_train)\n",
        "rf_preds = rf_model.predict(X_test)\n"
      ],
      "metadata": {
        "id": "-vYgp4W54Td-"
      },
      "execution_count": 18,
      "outputs": []
    },
    {
      "cell_type": "code",
      "source": [
        "from sklearn.neural_network import MLPClassifier\n",
        "\n",
        "nn_model = MLPClassifier(hidden_layer_sizes=(128, 64), max_iter=300, random_state=42)\n",
        "nn_model.fit(X_train, y_train)\n",
        "nn_preds = nn_model.predict(X_test)\n"
      ],
      "metadata": {
        "id": "8cF3DvDq4m_g"
      },
      "execution_count": 19,
      "outputs": []
    },
    {
      "cell_type": "markdown",
      "source": [
        "## 5️⃣ Model Evaluation\n",
        "**Performance Metrics Used:**\n",
        "- **Accuracy** – Overall correctness of the model\n",
        "- **Precision** – How many predicted threats were actually threats\n",
        "- **Recall** – How well the model detects all threats\n",
        "- **F1-score** – Balance between precision and recall"
      ],
      "metadata": {
        "id": "6s1K2h5mN9pi"
      }
    },
    {
      "cell_type": "code",
      "source": [
        "from sklearn.metrics import accuracy_score, precision_score, recall_score, f1_score, classification_report\n",
        "\n",
        "# Function to print evaluation metrics\n",
        "def evaluate_model(model_name, y_test, y_pred):\n",
        "    print(f\"\\n🔹 {model_name} Performance:\")\n",
        "    print(f\"Accuracy: {accuracy_score(y_test, y_pred):.4f}\")\n",
        "    print(f\"Precision: {precision_score(y_test, y_pred, average='weighted'):.4f}\")\n",
        "    print(f\"Recall: {recall_score(y_test, y_pred, average='weighted'):.4f}\")\n",
        "    print(f\"F1-score: {f1_score(y_test, y_pred, average='weighted'):.4f}\")\n",
        "\n",
        "# Evaluate each model\n",
        "evaluate_model(\"Random Forest\", y_test, rf_preds)\n",
        "\n",
        "evaluate_model(\"Neural Network\", y_test, nn_preds)\n"
      ],
      "metadata": {
        "colab": {
          "base_uri": "https://localhost:8080/"
        },
        "id": "scKQSeQi4pQ_",
        "outputId": "b7799793-ec63-404a-a61c-bc042b5310c7"
      },
      "execution_count": 21,
      "outputs": [
        {
          "output_type": "stream",
          "name": "stdout",
          "text": [
            "\n",
            "🔹 Random Forest Performance:\n",
            "Accuracy: 0.9994\n",
            "Precision: 0.9994\n",
            "Recall: 0.9994\n",
            "F1-score: 0.9994\n",
            "\n",
            "🔹 Neural Network Performance:\n",
            "Accuracy: 0.7719\n",
            "Precision: 0.6938\n",
            "Recall: 0.7719\n",
            "F1-score: 0.6782\n"
          ]
        },
        {
          "output_type": "stream",
          "name": "stderr",
          "text": [
            "/usr/local/lib/python3.11/dist-packages/sklearn/metrics/_classification.py:1565: UndefinedMetricWarning: Precision is ill-defined and being set to 0.0 in labels with no predicted samples. Use `zero_division` parameter to control this behavior.\n",
            "  _warn_prf(average, modifier, f\"{metric.capitalize()} is\", len(result))\n"
          ]
        }
      ]
    },
    {
      "cell_type": "markdown",
      "source": [
        "## 6️⃣ Visualization\n",
        "**Insights presented using graphs:**\n",
        "- **Confusion Matrix** – Shows misclassifications between different threat categories\n",
        "- **Feature Importance** – Displays which network traffic features contribute most to classification"
      ],
      "metadata": {
        "id": "ojx15swWOBGh"
      }
    },
    {
      "cell_type": "code",
      "source": [
        "import matplotlib.pyplot as plt\n",
        "import seaborn as sns\n",
        "from sklearn.metrics import confusion_matrix\n",
        "\n",
        "# Plot Confusion Matrix for a model\n",
        "def plot_confusion_matrix(y_test, y_pred, title):\n",
        "    cm = confusion_matrix(y_test, y_pred)\n",
        "    plt.figure(figsize=(6, 4))\n",
        "    sns.heatmap(cm, annot=True, fmt=\"d\", cmap=\"Blues\", xticklabels=label_encoder.classes_, yticklabels=label_encoder.classes_)\n",
        "    plt.xlabel(\"Predicted\")\n",
        "    plt.ylabel(\"Actual\")\n",
        "    plt.title(title)\n",
        "    plt.show()\n",
        "\n",
        "plot_confusion_matrix(y_test, rf_preds, \"Random Forest Confusion Matrix\")\n",
        "#plot_confusion_matrix(y_test, svm_preds, \"SVM Confusion Matrix\")\n",
        "plot_confusion_matrix(y_test, nn_preds, \"Neural Network Confusion Matrix\")\n"
      ],
      "metadata": {
        "colab": {
          "base_uri": "https://localhost:8080/",
          "height": 803
        },
        "id": "b0hbjH4k4rau",
        "outputId": "d49a27e8-dd49-47df-d53a-fbf652d28e1b"
      },
      "execution_count": 22,
      "outputs": [
        {
          "output_type": "display_data",
          "data": {
            "text/plain": [
              "<Figure size 600x400 with 2 Axes>"
            ],
            "image/png": "[encoded data removed]"
          },
          "metadata": {}
        },
        {
          "output_type": "display_data",
          "data": {
            "text/plain": [
              "<Figure size 600x400 with 2 Axes>"
            ],
            "image/png": "[encoded data removed]"
          },
          "metadata": {}
        }
      ]
    },
    {
      "cell_type": "markdown",
      "source": [
        "## 7️⃣ Conclusion\n",
        "**Key takeaways:**\n",
        "- The best model for threat classification will be determined based on evaluation metrics\n",
        "- Further improvements may include hyperparameter tuning or using deep learning methods"
      ],
      "metadata": {
        "id": "YoDhChUFOFAh"
      }
    }
  ]
}